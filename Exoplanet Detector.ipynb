{
 "cells": [
  {
   "cell_type": "code",
   "execution_count": 1,
   "metadata": {},
   "outputs": [],
   "source": [
    "import numpy as np\n",
    "import matplotlib.pyplot as plt\n",
    "from sklearn.linear_model import LinearRegression\n",
    "from sklearn.preprocessing import StandardScaler\n",
    "from sklearn.metrics import roc_curve, roc_auc_score\n",
    "from scipy.ndimage.filters import uniform_filter1d"
   ]
  },
  {
   "cell_type": "code",
   "execution_count": 2,
   "metadata": {
    "scrolled": false
   },
   "outputs": [
    {
     "name": "stderr",
     "output_type": "stream",
     "text": [
      "Using TensorFlow backend.\n"
     ]
    }
   ],
   "source": [
    "from keras.models import Sequential, Model\n",
    "from keras.layers import Conv1D, MaxPool1D, Dense, Dropout, Flatten, \\\n",
    "BatchNormalization, Input, concatenate, Activation\n",
    "from keras.optimizers import Adam,SGD"
   ]
  },
  {
   "cell_type": "code",
   "execution_count": 3,
   "metadata": {},
   "outputs": [],
   "source": [
    "INPUT_LIB = 'E:/8th sem/nasa kaggle dataset/'\n",
    "raw_data = np.loadtxt(INPUT_LIB + 'exoTrain.csv', skiprows=1, delimiter=',')\n",
    "x_train = raw_data[:, 1:]\n",
    "y_train = raw_data[:, 0, np.newaxis] - 1.\n",
    "raw_data = np.loadtxt(INPUT_LIB + 'exoTest.csv', skiprows=1, delimiter=',')\n",
    "x_test = raw_data[:, 1:]\n",
    "y_test = raw_data[:, 0, np.newaxis] - 1.\n",
    "#del raw_data"
   ]
  },
  {
   "cell_type": "code",
   "execution_count": 4,
   "metadata": {},
   "outputs": [
    {
     "data": {
      "text/plain": [
       "array([[ 93.85,  83.81,  20.1 , ...,  61.42,   5.08, -39.54],\n",
       "       [-38.88, -33.83, -58.54, ...,   6.46,  16.  ,  19.93],\n",
       "       [532.64, 535.92, 513.73, ..., -28.91, -70.02, -96.67],\n",
       "       ...,\n",
       "       [273.39, 278.  , 261.73, ...,  88.42,  79.07,  79.43],\n",
       "       [  3.82,   2.09,  -3.29, ..., -14.55,  -6.41,  -2.55],\n",
       "       [323.28, 306.36, 293.16, ..., -16.72, -14.09,  27.82]])"
      ]
     },
     "execution_count": 4,
     "metadata": {},
     "output_type": "execute_result"
    }
   ],
   "source": [
    "x_train"
   ]
  },
  {
   "cell_type": "code",
   "execution_count": 5,
   "metadata": {},
   "outputs": [],
   "source": [
    "import pandas as pd\n",
    "x_temp= pd.DataFrame(x_train)"
   ]
  },
  {
   "cell_type": "code",
   "execution_count": 6,
   "metadata": {},
   "outputs": [
    {
     "data": {
      "text/html": [
       "<div>\n",
       "<style scoped>\n",
       "    .dataframe tbody tr th:only-of-type {\n",
       "        vertical-align: middle;\n",
       "    }\n",
       "\n",
       "    .dataframe tbody tr th {\n",
       "        vertical-align: top;\n",
       "    }\n",
       "\n",
       "    .dataframe thead th {\n",
       "        text-align: right;\n",
       "    }\n",
       "</style>\n",
       "<table border=\"1\" class=\"dataframe\">\n",
       "  <thead>\n",
       "    <tr style=\"text-align: right;\">\n",
       "      <th></th>\n",
       "      <th>0</th>\n",
       "      <th>1</th>\n",
       "      <th>2</th>\n",
       "      <th>3</th>\n",
       "      <th>4</th>\n",
       "      <th>5</th>\n",
       "      <th>6</th>\n",
       "      <th>7</th>\n",
       "      <th>8</th>\n",
       "      <th>9</th>\n",
       "      <th>...</th>\n",
       "      <th>3187</th>\n",
       "      <th>3188</th>\n",
       "      <th>3189</th>\n",
       "      <th>3190</th>\n",
       "      <th>3191</th>\n",
       "      <th>3192</th>\n",
       "      <th>3193</th>\n",
       "      <th>3194</th>\n",
       "      <th>3195</th>\n",
       "      <th>3196</th>\n",
       "    </tr>\n",
       "  </thead>\n",
       "  <tbody>\n",
       "    <tr>\n",
       "      <th>0</th>\n",
       "      <td>93.85</td>\n",
       "      <td>83.81</td>\n",
       "      <td>20.10</td>\n",
       "      <td>-26.98</td>\n",
       "      <td>-39.56</td>\n",
       "      <td>-124.71</td>\n",
       "      <td>-135.18</td>\n",
       "      <td>-96.27</td>\n",
       "      <td>-79.89</td>\n",
       "      <td>-160.17</td>\n",
       "      <td>...</td>\n",
       "      <td>-78.07</td>\n",
       "      <td>-102.15</td>\n",
       "      <td>-102.15</td>\n",
       "      <td>25.13</td>\n",
       "      <td>48.57</td>\n",
       "      <td>92.54</td>\n",
       "      <td>39.32</td>\n",
       "      <td>61.42</td>\n",
       "      <td>5.08</td>\n",
       "      <td>-39.54</td>\n",
       "    </tr>\n",
       "    <tr>\n",
       "      <th>1</th>\n",
       "      <td>-38.88</td>\n",
       "      <td>-33.83</td>\n",
       "      <td>-58.54</td>\n",
       "      <td>-40.09</td>\n",
       "      <td>-79.31</td>\n",
       "      <td>-72.81</td>\n",
       "      <td>-86.55</td>\n",
       "      <td>-85.33</td>\n",
       "      <td>-83.97</td>\n",
       "      <td>-73.38</td>\n",
       "      <td>...</td>\n",
       "      <td>-3.28</td>\n",
       "      <td>-32.21</td>\n",
       "      <td>-32.21</td>\n",
       "      <td>-24.89</td>\n",
       "      <td>-4.86</td>\n",
       "      <td>0.76</td>\n",
       "      <td>-11.70</td>\n",
       "      <td>6.46</td>\n",
       "      <td>16.00</td>\n",
       "      <td>19.93</td>\n",
       "    </tr>\n",
       "    <tr>\n",
       "      <th>2</th>\n",
       "      <td>532.64</td>\n",
       "      <td>535.92</td>\n",
       "      <td>513.73</td>\n",
       "      <td>496.92</td>\n",
       "      <td>456.45</td>\n",
       "      <td>466.00</td>\n",
       "      <td>464.50</td>\n",
       "      <td>486.39</td>\n",
       "      <td>436.56</td>\n",
       "      <td>484.39</td>\n",
       "      <td>...</td>\n",
       "      <td>-71.69</td>\n",
       "      <td>13.31</td>\n",
       "      <td>13.31</td>\n",
       "      <td>-29.89</td>\n",
       "      <td>-20.88</td>\n",
       "      <td>5.06</td>\n",
       "      <td>-11.80</td>\n",
       "      <td>-28.91</td>\n",
       "      <td>-70.02</td>\n",
       "      <td>-96.67</td>\n",
       "    </tr>\n",
       "    <tr>\n",
       "      <th>3</th>\n",
       "      <td>326.52</td>\n",
       "      <td>347.39</td>\n",
       "      <td>302.35</td>\n",
       "      <td>298.13</td>\n",
       "      <td>317.74</td>\n",
       "      <td>312.70</td>\n",
       "      <td>322.33</td>\n",
       "      <td>311.31</td>\n",
       "      <td>312.42</td>\n",
       "      <td>323.33</td>\n",
       "      <td>...</td>\n",
       "      <td>5.71</td>\n",
       "      <td>-3.73</td>\n",
       "      <td>-3.73</td>\n",
       "      <td>30.05</td>\n",
       "      <td>20.03</td>\n",
       "      <td>-12.67</td>\n",
       "      <td>-8.77</td>\n",
       "      <td>-17.31</td>\n",
       "      <td>-17.35</td>\n",
       "      <td>13.98</td>\n",
       "    </tr>\n",
       "    <tr>\n",
       "      <th>4</th>\n",
       "      <td>-1107.21</td>\n",
       "      <td>-1112.59</td>\n",
       "      <td>-1118.95</td>\n",
       "      <td>-1095.10</td>\n",
       "      <td>-1057.55</td>\n",
       "      <td>-1034.48</td>\n",
       "      <td>-998.34</td>\n",
       "      <td>-1022.71</td>\n",
       "      <td>-989.57</td>\n",
       "      <td>-970.88</td>\n",
       "      <td>...</td>\n",
       "      <td>-594.37</td>\n",
       "      <td>-401.66</td>\n",
       "      <td>-401.66</td>\n",
       "      <td>-357.24</td>\n",
       "      <td>-443.76</td>\n",
       "      <td>-438.54</td>\n",
       "      <td>-399.71</td>\n",
       "      <td>-384.65</td>\n",
       "      <td>-411.79</td>\n",
       "      <td>-510.54</td>\n",
       "    </tr>\n",
       "    <tr>\n",
       "      <th>...</th>\n",
       "      <td>...</td>\n",
       "      <td>...</td>\n",
       "      <td>...</td>\n",
       "      <td>...</td>\n",
       "      <td>...</td>\n",
       "      <td>...</td>\n",
       "      <td>...</td>\n",
       "      <td>...</td>\n",
       "      <td>...</td>\n",
       "      <td>...</td>\n",
       "      <td>...</td>\n",
       "      <td>...</td>\n",
       "      <td>...</td>\n",
       "      <td>...</td>\n",
       "      <td>...</td>\n",
       "      <td>...</td>\n",
       "      <td>...</td>\n",
       "      <td>...</td>\n",
       "      <td>...</td>\n",
       "      <td>...</td>\n",
       "      <td>...</td>\n",
       "    </tr>\n",
       "    <tr>\n",
       "      <th>5082</th>\n",
       "      <td>-91.91</td>\n",
       "      <td>-92.97</td>\n",
       "      <td>-78.76</td>\n",
       "      <td>-97.33</td>\n",
       "      <td>-68.00</td>\n",
       "      <td>-68.24</td>\n",
       "      <td>-75.48</td>\n",
       "      <td>-49.25</td>\n",
       "      <td>-30.92</td>\n",
       "      <td>-11.88</td>\n",
       "      <td>...</td>\n",
       "      <td>139.95</td>\n",
       "      <td>147.26</td>\n",
       "      <td>156.95</td>\n",
       "      <td>155.64</td>\n",
       "      <td>156.36</td>\n",
       "      <td>151.75</td>\n",
       "      <td>-24.45</td>\n",
       "      <td>-17.00</td>\n",
       "      <td>3.23</td>\n",
       "      <td>19.28</td>\n",
       "    </tr>\n",
       "    <tr>\n",
       "      <th>5083</th>\n",
       "      <td>989.75</td>\n",
       "      <td>891.01</td>\n",
       "      <td>908.53</td>\n",
       "      <td>851.83</td>\n",
       "      <td>755.11</td>\n",
       "      <td>615.78</td>\n",
       "      <td>595.77</td>\n",
       "      <td>458.87</td>\n",
       "      <td>492.84</td>\n",
       "      <td>384.34</td>\n",
       "      <td>...</td>\n",
       "      <td>-26.50</td>\n",
       "      <td>-4.84</td>\n",
       "      <td>-76.30</td>\n",
       "      <td>-37.84</td>\n",
       "      <td>-153.83</td>\n",
       "      <td>-136.16</td>\n",
       "      <td>38.03</td>\n",
       "      <td>100.28</td>\n",
       "      <td>-45.64</td>\n",
       "      <td>35.58</td>\n",
       "    </tr>\n",
       "    <tr>\n",
       "      <th>5084</th>\n",
       "      <td>273.39</td>\n",
       "      <td>278.00</td>\n",
       "      <td>261.73</td>\n",
       "      <td>236.99</td>\n",
       "      <td>280.73</td>\n",
       "      <td>264.90</td>\n",
       "      <td>252.92</td>\n",
       "      <td>254.88</td>\n",
       "      <td>237.60</td>\n",
       "      <td>238.51</td>\n",
       "      <td>...</td>\n",
       "      <td>-26.82</td>\n",
       "      <td>-53.89</td>\n",
       "      <td>-48.71</td>\n",
       "      <td>30.99</td>\n",
       "      <td>15.96</td>\n",
       "      <td>-3.47</td>\n",
       "      <td>65.73</td>\n",
       "      <td>88.42</td>\n",
       "      <td>79.07</td>\n",
       "      <td>79.43</td>\n",
       "    </tr>\n",
       "    <tr>\n",
       "      <th>5085</th>\n",
       "      <td>3.82</td>\n",
       "      <td>2.09</td>\n",
       "      <td>-3.29</td>\n",
       "      <td>-2.88</td>\n",
       "      <td>1.66</td>\n",
       "      <td>-0.75</td>\n",
       "      <td>3.85</td>\n",
       "      <td>-0.03</td>\n",
       "      <td>3.28</td>\n",
       "      <td>6.29</td>\n",
       "      <td>...</td>\n",
       "      <td>10.86</td>\n",
       "      <td>-3.23</td>\n",
       "      <td>-5.10</td>\n",
       "      <td>-4.61</td>\n",
       "      <td>-9.82</td>\n",
       "      <td>-1.50</td>\n",
       "      <td>-4.65</td>\n",
       "      <td>-14.55</td>\n",
       "      <td>-6.41</td>\n",
       "      <td>-2.55</td>\n",
       "    </tr>\n",
       "    <tr>\n",
       "      <th>5086</th>\n",
       "      <td>323.28</td>\n",
       "      <td>306.36</td>\n",
       "      <td>293.16</td>\n",
       "      <td>287.67</td>\n",
       "      <td>249.89</td>\n",
       "      <td>218.30</td>\n",
       "      <td>188.86</td>\n",
       "      <td>178.93</td>\n",
       "      <td>118.93</td>\n",
       "      <td>130.68</td>\n",
       "      <td>...</td>\n",
       "      <td>71.19</td>\n",
       "      <td>0.97</td>\n",
       "      <td>55.20</td>\n",
       "      <td>-1.63</td>\n",
       "      <td>-5.50</td>\n",
       "      <td>-25.33</td>\n",
       "      <td>-41.31</td>\n",
       "      <td>-16.72</td>\n",
       "      <td>-14.09</td>\n",
       "      <td>27.82</td>\n",
       "    </tr>\n",
       "  </tbody>\n",
       "</table>\n",
       "<p>5087 rows × 3197 columns</p>\n",
       "</div>"
      ],
      "text/plain": [
       "         0        1        2        3        4        5       6        7     \\\n",
       "0       93.85    83.81    20.10   -26.98   -39.56  -124.71 -135.18   -96.27   \n",
       "1      -38.88   -33.83   -58.54   -40.09   -79.31   -72.81  -86.55   -85.33   \n",
       "2      532.64   535.92   513.73   496.92   456.45   466.00  464.50   486.39   \n",
       "3      326.52   347.39   302.35   298.13   317.74   312.70  322.33   311.31   \n",
       "4    -1107.21 -1112.59 -1118.95 -1095.10 -1057.55 -1034.48 -998.34 -1022.71   \n",
       "...       ...      ...      ...      ...      ...      ...     ...      ...   \n",
       "5082   -91.91   -92.97   -78.76   -97.33   -68.00   -68.24  -75.48   -49.25   \n",
       "5083   989.75   891.01   908.53   851.83   755.11   615.78  595.77   458.87   \n",
       "5084   273.39   278.00   261.73   236.99   280.73   264.90  252.92   254.88   \n",
       "5085     3.82     2.09    -3.29    -2.88     1.66    -0.75    3.85    -0.03   \n",
       "5086   323.28   306.36   293.16   287.67   249.89   218.30  188.86   178.93   \n",
       "\n",
       "        8       9     ...    3187    3188    3189    3190    3191    3192  \\\n",
       "0     -79.89 -160.17  ...  -78.07 -102.15 -102.15   25.13   48.57   92.54   \n",
       "1     -83.97  -73.38  ...   -3.28  -32.21  -32.21  -24.89   -4.86    0.76   \n",
       "2     436.56  484.39  ...  -71.69   13.31   13.31  -29.89  -20.88    5.06   \n",
       "3     312.42  323.33  ...    5.71   -3.73   -3.73   30.05   20.03  -12.67   \n",
       "4    -989.57 -970.88  ... -594.37 -401.66 -401.66 -357.24 -443.76 -438.54   \n",
       "...      ...     ...  ...     ...     ...     ...     ...     ...     ...   \n",
       "5082  -30.92  -11.88  ...  139.95  147.26  156.95  155.64  156.36  151.75   \n",
       "5083  492.84  384.34  ...  -26.50   -4.84  -76.30  -37.84 -153.83 -136.16   \n",
       "5084  237.60  238.51  ...  -26.82  -53.89  -48.71   30.99   15.96   -3.47   \n",
       "5085    3.28    6.29  ...   10.86   -3.23   -5.10   -4.61   -9.82   -1.50   \n",
       "5086  118.93  130.68  ...   71.19    0.97   55.20   -1.63   -5.50  -25.33   \n",
       "\n",
       "        3193    3194    3195    3196  \n",
       "0      39.32   61.42    5.08  -39.54  \n",
       "1     -11.70    6.46   16.00   19.93  \n",
       "2     -11.80  -28.91  -70.02  -96.67  \n",
       "3      -8.77  -17.31  -17.35   13.98  \n",
       "4    -399.71 -384.65 -411.79 -510.54  \n",
       "...      ...     ...     ...     ...  \n",
       "5082  -24.45  -17.00    3.23   19.28  \n",
       "5083   38.03  100.28  -45.64   35.58  \n",
       "5084   65.73   88.42   79.07   79.43  \n",
       "5085   -4.65  -14.55   -6.41   -2.55  \n",
       "5086  -41.31  -16.72  -14.09   27.82  \n",
       "\n",
       "[5087 rows x 3197 columns]"
      ]
     },
     "execution_count": 6,
     "metadata": {},
     "output_type": "execute_result"
    }
   ],
   "source": [
    "x_temp"
   ]
  },
  {
   "cell_type": "code",
   "execution_count": 7,
   "metadata": {},
   "outputs": [],
   "source": [
    "y_temp = pd.DataFrame(y_train)"
   ]
  },
  {
   "cell_type": "code",
   "execution_count": 8,
   "metadata": {},
   "outputs": [
    {
     "data": {
      "text/html": [
       "<div>\n",
       "<style scoped>\n",
       "    .dataframe tbody tr th:only-of-type {\n",
       "        vertical-align: middle;\n",
       "    }\n",
       "\n",
       "    .dataframe tbody tr th {\n",
       "        vertical-align: top;\n",
       "    }\n",
       "\n",
       "    .dataframe thead th {\n",
       "        text-align: right;\n",
       "    }\n",
       "</style>\n",
       "<table border=\"1\" class=\"dataframe\">\n",
       "  <thead>\n",
       "    <tr style=\"text-align: right;\">\n",
       "      <th></th>\n",
       "      <th>0</th>\n",
       "    </tr>\n",
       "  </thead>\n",
       "  <tbody>\n",
       "    <tr>\n",
       "      <th>0</th>\n",
       "      <td>1.0</td>\n",
       "    </tr>\n",
       "    <tr>\n",
       "      <th>1</th>\n",
       "      <td>1.0</td>\n",
       "    </tr>\n",
       "    <tr>\n",
       "      <th>2</th>\n",
       "      <td>1.0</td>\n",
       "    </tr>\n",
       "    <tr>\n",
       "      <th>3</th>\n",
       "      <td>1.0</td>\n",
       "    </tr>\n",
       "    <tr>\n",
       "      <th>4</th>\n",
       "      <td>1.0</td>\n",
       "    </tr>\n",
       "    <tr>\n",
       "      <th>...</th>\n",
       "      <td>...</td>\n",
       "    </tr>\n",
       "    <tr>\n",
       "      <th>5082</th>\n",
       "      <td>0.0</td>\n",
       "    </tr>\n",
       "    <tr>\n",
       "      <th>5083</th>\n",
       "      <td>0.0</td>\n",
       "    </tr>\n",
       "    <tr>\n",
       "      <th>5084</th>\n",
       "      <td>0.0</td>\n",
       "    </tr>\n",
       "    <tr>\n",
       "      <th>5085</th>\n",
       "      <td>0.0</td>\n",
       "    </tr>\n",
       "    <tr>\n",
       "      <th>5086</th>\n",
       "      <td>0.0</td>\n",
       "    </tr>\n",
       "  </tbody>\n",
       "</table>\n",
       "<p>5087 rows × 1 columns</p>\n",
       "</div>"
      ],
      "text/plain": [
       "        0\n",
       "0     1.0\n",
       "1     1.0\n",
       "2     1.0\n",
       "3     1.0\n",
       "4     1.0\n",
       "...   ...\n",
       "5082  0.0\n",
       "5083  0.0\n",
       "5084  0.0\n",
       "5085  0.0\n",
       "5086  0.0\n",
       "\n",
       "[5087 rows x 1 columns]"
      ]
     },
     "execution_count": 8,
     "metadata": {},
     "output_type": "execute_result"
    }
   ],
   "source": [
    "y_temp"
   ]
  },
  {
   "cell_type": "code",
   "execution_count": 9,
   "metadata": {},
   "outputs": [],
   "source": [
    "import matplotlib.pyplot as plt\n",
    "import numpy as np\n",
    "import math"
   ]
  },
  {
   "cell_type": "code",
   "execution_count": 10,
   "metadata": {},
   "outputs": [
    {
     "data": {
      "text/plain": [
       "[]"
      ]
     },
     "execution_count": 10,
     "metadata": {},
     "output_type": "execute_result"
    },
    {
     "data": {
      "image/png": "[encoded data removed]",
      "text/plain": [
       "<Figure size 432x288 with 1 Axes>"
      ]
     },
     "metadata": {
      "needs_background": "light"
     },
     "output_type": "display_data"
    }
   ],
   "source": [
    "p=0\n",
    "n=0\n",
    "for i in y_train:\n",
    "    if i==1:\n",
    "        p=p+1\n",
    "    elif i==0:\n",
    "        n=n+1\n",
    "sample = pd.DataFrame({'lab':['Not Exoplanet', 'Exoplanet'], 'val':[n, p]})\n",
    "ax = sample.plot.bar(x='lab', y='val', rot=1)\n",
    "ax.set_yscale('log')\n",
    "ax.set_xlabel('')\n",
    "ax.set_ylabel('Count')\n",
    "ax.plot()"
   ]
  },
  {
   "cell_type": "code",
   "execution_count": 11,
   "metadata": {},
   "outputs": [
    {
     "data": {
      "text/plain": [
       "[]"
      ]
     },
     "execution_count": 11,
     "metadata": {},
     "output_type": "execute_result"
    },
    {
     "data": {
      "image/png": "[encoded data removed]",
      "text/plain": [
       "<Figure size 432x288 with 1 Axes>"
      ]
     },
     "metadata": {},
     "output_type": "display_data"
    }
   ],
   "source": [
    "ax = sample.plot.pie(x=['Not Exoplanet','Exoplanet'], y='val')\n",
    "ax.plot()"
   ]
  },
  {
   "cell_type": "code",
   "execution_count": 12,
   "metadata": {},
   "outputs": [
    {
     "name": "stdout",
     "output_type": "stream",
     "text": [
      "X_train: (5087, 3197)\n",
      "y_train: (5087, 1)\n",
      "X_test: (570, 3197)\n",
      "X_test: (570, 1)\n"
     ]
    }
   ],
   "source": [
    "print(\"X_train:\",x_train.shape)\n",
    "print(\"y_train:\",y_train.shape)\n",
    "print(\"X_test:\",x_test.shape)\n",
    "print(\"X_test:\",y_test.shape)"
   ]
  },
  {
   "cell_type": "code",
   "execution_count": 13,
   "metadata": {},
   "outputs": [],
   "source": [
    "# Standardization of the data\n",
    "x_train = ((x_train - np.mean(x_train, axis=1).reshape(-1,1)) / \n",
    "           np.std(x_train, axis=1).reshape(-1,1))\n",
    "x_test = ((x_test - np.mean(x_test, axis=1).reshape(-1,1)) / \n",
    "          np.std(x_test, axis=1).reshape(-1,1))"
   ]
  },
  {
   "cell_type": "code",
   "execution_count": 14,
   "metadata": {},
   "outputs": [
    {
     "data": {
      "text/plain": [
       "array([[ 0.52205598,  0.45958061,  0.06313585, ...,  0.32025558,\n",
       "        -0.03032828, -0.30798274],\n",
       "       [-0.52418682, -0.44002245, -0.85184454, ...,  0.23145922,\n",
       "         0.39045488,  0.45595309],\n",
       "       [ 1.86086099,  1.87249912,  1.79376438, ..., -0.13163528,\n",
       "        -0.27750212, -0.37206186],\n",
       "       ...,\n",
       "       [ 4.40733518,  4.48246107,  4.21732046, ...,  1.39301064,\n",
       "         1.24064034,  1.24650701],\n",
       "       [ 0.27498946,  0.11730004, -0.37308671, ..., -1.39943518,\n",
       "        -0.65747456, -0.30563574],\n",
       "       [ 5.16248093,  4.88787124,  4.67363673, ..., -0.35568069,\n",
       "        -0.31299609,  0.36719848]])"
      ]
     },
     "execution_count": 14,
     "metadata": {},
     "output_type": "execute_result"
    }
   ],
   "source": [
    "x_train"
   ]
  },
  {
   "cell_type": "code",
   "execution_count": 15,
   "metadata": {},
   "outputs": [],
   "source": [
    "# Moving average\n",
    "x_train = np.stack([x_train, uniform_filter1d(x_train, axis=1, size=200)], axis=2)\n",
    "x_test = np.stack([x_test, uniform_filter1d(x_test, axis=1, size=200)], axis=2)"
   ]
  },
  {
   "cell_type": "code",
   "execution_count": 16,
   "metadata": {},
   "outputs": [
    {
     "name": "stdout",
     "output_type": "stream",
     "text": [
      "(5087, 3197, 2)\n"
     ]
    }
   ],
   "source": [
    "x_train\n",
    "print(x_train.shape)"
   ]
  },
  {
   "cell_type": "code",
   "execution_count": 17,
   "metadata": {},
   "outputs": [],
   "source": [
    "# To create randomness due to lack of True Positive Exoplanet cases\n",
    "def batch_generator(x_train, y_train, batch_size=32):\n",
    "    half_batch = batch_size // 2\n",
    "    x_batch = np.empty((batch_size, x_train.shape[1], x_train.shape[2]), dtype='float32')\n",
    "    y_batch = np.empty((batch_size, y_train.shape[1]), dtype='float32')\n",
    "    \n",
    "    yes_idx = np.where(y_train[:,0] == 1.)[0]\n",
    "    non_idx = np.where(y_train[:,0] == 0.)[0]\n",
    "    \n",
    "    while True:\n",
    "        np.random.shuffle(yes_idx)\n",
    "        np.random.shuffle(non_idx)\n",
    "    \n",
    "        x_batch[:half_batch] = x_train[yes_idx[:half_batch]]\n",
    "        x_batch[half_batch:] = x_train[non_idx[half_batch:batch_size]]\n",
    "        y_batch[:half_batch] = y_train[yes_idx[:half_batch]]\n",
    "        y_batch[half_batch:] = y_train[non_idx[half_batch:batch_size]]\n",
    "        \n",
    "        \n",
    "        for i in range(batch_size):\n",
    "            sz = np.random.randint(x_batch.shape[1])\n",
    "            x_batch[i] = np.roll(x_batch[i], sz, axis = 0)\n",
    "     \n",
    "        yield x_batch, y_batch"
   ]
  },
  {
   "cell_type": "code",
   "execution_count": 18,
   "metadata": {},
   "outputs": [],
   "source": [
    "model = Sequential()\n",
    "model.add(Conv1D(filters=8, kernel_size=11, activation='relu', input_shape=x_train.shape[1:]))\n",
    "model.add(MaxPool1D(strides=4))\n",
    "model.add(BatchNormalization())\n",
    "model.add(Conv1D(filters=16, kernel_size=11, activation='relu'))\n",
    "model.add(MaxPool1D(strides=4))\n",
    "model.add(BatchNormalization())\n",
    "model.add(Conv1D(filters=32, kernel_size=11, activation='relu'))\n",
    "model.add(MaxPool1D(strides=4))\n",
    "model.add(BatchNormalization())\n",
    "model.add(Conv1D(filters=64, kernel_size=11, activation='relu'))\n",
    "model.add(MaxPool1D(strides=4))\n",
    "model.add(Flatten())\n",
    "model.add(Dropout(0.5))\n",
    "model.add(Dense(64, activation='relu'))\n",
    "model.add(Dropout(0.25))\n",
    "model.add(Dense(64, activation='relu'))\n",
    "model.add(Dense(1, activation='sigmoid'))"
   ]
  },
  {
   "cell_type": "code",
   "execution_count": 19,
   "metadata": {
    "scrolled": true
   },
   "outputs": [
    {
     "name": "stdout",
     "output_type": "stream",
     "text": [
      "Epoch 1/20\n",
      " - 12s - loss: 0.6092 - accuracy: 0.6660 - val_loss: 0.5377 - val_accuracy: 0.8421\n",
      "Epoch 2/20\n",
      " - 10s - loss: 0.4608 - accuracy: 0.7850 - val_loss: 0.3298 - val_accuracy: 0.8579\n",
      "Epoch 3/20\n",
      " - 11s - loss: 0.3529 - accuracy: 0.8463 - val_loss: 0.2476 - val_accuracy: 0.8737\n",
      "Epoch 4/20\n",
      " - 12s - loss: 0.2123 - accuracy: 0.9107 - val_loss: 0.1249 - val_accuracy: 0.9526\n",
      "Epoch 5/20\n",
      " - 11s - loss: 0.1268 - accuracy: 0.9517 - val_loss: 0.1477 - val_accuracy: 0.9526\n",
      "Epoch 6/20\n",
      " - 11s - loss: 0.1353 - accuracy: 0.9533 - val_loss: 0.0897 - val_accuracy: 0.9789\n",
      "Epoch 7/20\n",
      " - 11s - loss: 0.0883 - accuracy: 0.9694 - val_loss: 0.0883 - val_accuracy: 0.9860\n",
      "Epoch 8/20\n",
      " - 11s - loss: 0.0779 - accuracy: 0.9773 - val_loss: 0.0477 - val_accuracy: 0.9860\n",
      "Epoch 9/20\n",
      " - 12s - loss: 0.0977 - accuracy: 0.9672 - val_loss: 0.0582 - val_accuracy: 0.9912\n",
      "Epoch 10/20\n",
      " - 17s - loss: 0.0548 - accuracy: 0.9823 - val_loss: 0.0814 - val_accuracy: 0.9825\n",
      "Epoch 11/20\n",
      " - 14s - loss: 0.0597 - accuracy: 0.9785 - val_loss: 0.0704 - val_accuracy: 0.9842\n",
      "Epoch 12/20\n",
      " - 10s - loss: 0.0495 - accuracy: 0.9823 - val_loss: 0.0469 - val_accuracy: 0.9895\n",
      "Epoch 13/20\n",
      " - 11s - loss: 0.0520 - accuracy: 0.9848 - val_loss: 0.0532 - val_accuracy: 0.9930\n",
      "Epoch 14/20\n",
      " - 12s - loss: 0.0335 - accuracy: 0.9886 - val_loss: 0.0420 - val_accuracy: 0.9930\n",
      "Epoch 15/20\n",
      " - 11s - loss: 0.0465 - accuracy: 0.9845 - val_loss: 0.0427 - val_accuracy: 0.9895\n",
      "Epoch 16/20\n",
      " - 13s - loss: 0.0305 - accuracy: 0.9912 - val_loss: 0.0427 - val_accuracy: 0.9912\n",
      "Epoch 17/20\n",
      " - 10s - loss: 0.0308 - accuracy: 0.9902 - val_loss: 0.0497 - val_accuracy: 0.9947\n",
      "Epoch 18/20\n",
      " - 10s - loss: 0.0288 - accuracy: 0.9924 - val_loss: 0.0426 - val_accuracy: 0.9965\n",
      "Epoch 19/20\n",
      " - 10s - loss: 0.0276 - accuracy: 0.9908 - val_loss: 0.0333 - val_accuracy: 0.9930\n",
      "Epoch 20/20\n",
      " - 10s - loss: 0.0387 - accuracy: 0.9852 - val_loss: 0.0405 - val_accuracy: 0.9982\n"
     ]
    }
   ],
   "source": [
    "model.compile(optimizer=Adam(), loss = 'binary_crossentropy', metrics=['accuracy'])\n",
    "hist = model.fit_generator(batch_generator(x_train, y_train, 32), \n",
    "                           validation_data=(x_test, y_test), \n",
    "                           verbose=2, epochs=20,\n",
    "                           steps_per_epoch=x_train.shape[1]//32)"
   ]
  },
  {
   "cell_type": "code",
   "execution_count": 123,
   "metadata": {},
   "outputs": [],
   "source": [
    "#saving in pickle format and testing on x-test set:\n",
    "import pickle\n",
    "filename = \"exoplanet_model.pkl\"\n",
    "outfile = open(filename,'wb')\n",
    "\n",
    "pickle.dump(model,outfile)\n",
    "outfile.close()\n"
   ]
  },
  {
   "cell_type": "code",
   "execution_count": 47,
   "metadata": {},
   "outputs": [],
   "source": [
    "#save the model:\n",
    "saved_model = pickle.dumps(model)\n",
    "\n",
    "#load the pickle:\n",
    "load_pickle = pickle.loads(saved_model)\n",
    "\n",
    "#predicting on loaded model:\n",
    "predicted_model = load_pickle.predict(x_test)"
   ]
  },
  {
   "cell_type": "code",
   "execution_count": 89,
   "metadata": {},
   "outputs": [
    {
     "data": {
      "text/plain": [
       "1.1043192e-09"
      ]
     },
     "execution_count": 89,
     "metadata": {},
     "output_type": "execute_result"
    }
   ],
   "source": [
    "predicted_model[6][0]"
   ]
  },
  {
   "cell_type": "code",
   "execution_count": 96,
   "metadata": {},
   "outputs": [
    {
     "name": "stdout",
     "output_type": "stream",
     "text": [
      "yes\n"
     ]
    }
   ],
   "source": [
    "if predicted_model[6][0]<0.001:\n",
    "    print('yes')\n",
    "else:\n",
    "    print('no')"
   ]
  },
  {
   "cell_type": "code",
   "execution_count": 97,
   "metadata": {},
   "outputs": [],
   "source": [
    "pred = []\n",
    "for i in range(len(predicted_model)):\n",
    "    if predicted_model[i][0]<0.001:\n",
    "        pred.append(0)\n",
    "    elif predicted_model[i][0]>0.001:\n",
    "        pred.append(1)\n",
    "        "
   ]
  },
  {
   "cell_type": "code",
   "execution_count": 118,
   "metadata": {},
   "outputs": [
    {
     "name": "stdout",
     "output_type": "stream",
     "text": [
      "pred= 1\n",
      "y-test= [0.]\n",
      "pred= 1\n",
      "y-test= [0.]\n",
      "pred= 1\n",
      "y-test= [0.]\n",
      "pred= 1\n",
      "y-test= [0.]\n",
      "pred= 1\n",
      "y-test= [0.]\n",
      "pred= 1\n",
      "y-test= [0.]\n",
      "pred= 1\n",
      "y-test= [0.]\n",
      "pred= 1\n",
      "y-test= [0.]\n",
      "pred= 1\n",
      "y-test= [0.]\n",
      "pred= 1\n",
      "y-test= [0.]\n",
      "pred= 1\n",
      "y-test= [0.]\n",
      "pred= 1\n",
      "y-test= [0.]\n",
      "pred= 1\n",
      "y-test= [0.]\n",
      "pred= 1\n",
      "y-test= [0.]\n",
      "pred= 1\n",
      "y-test= [0.]\n",
      "pred= 1\n",
      "y-test= [0.]\n",
      "pred= 1\n",
      "y-test= [0.]\n",
      "pred= 1\n",
      "y-test= [0.]\n",
      "sum:  552 count 18\n"
     ]
    }
   ],
   "source": [
    "sum=0\n",
    "c=0\n",
    "for i,j in zip(pred,y_test):\n",
    "    if i==j:\n",
    "        sum=sum+1\n",
    "    elif i!=j:\n",
    "        print('pred=',i)\n",
    "        print('y-test=',j)\n",
    "        c=c+1\n",
    "print('sum: ',sum,'count',c)"
   ]
  },
  {
   "cell_type": "code",
   "execution_count": 115,
   "metadata": {},
   "outputs": [
    {
     "data": {
      "text/plain": [
       "5"
      ]
     },
     "execution_count": 115,
     "metadata": {},
     "output_type": "execute_result"
    }
   ],
   "source": [
    "pred.index(0)"
   ]
  },
  {
   "cell_type": "code",
   "execution_count": 113,
   "metadata": {},
   "outputs": [
    {
     "data": {
      "text/plain": [
       "0"
      ]
     },
     "execution_count": 113,
     "metadata": {},
     "output_type": "execute_result"
    }
   ],
   "source": [
    "pred.index(1)"
   ]
  },
  {
   "cell_type": "code",
   "execution_count": 105,
   "metadata": {},
   "outputs": [
    {
     "data": {
      "text/plain": [
       "(570, 1)"
      ]
     },
     "execution_count": 105,
     "metadata": {},
     "output_type": "execute_result"
    }
   ],
   "source": [
    "y_test.shape"
   ]
  },
  {
   "cell_type": "code",
   "execution_count": 20,
   "metadata": {
    "scrolled": true
   },
   "outputs": [
    {
     "data": {
      "image/png": "[encoded data removed]",
      "text/plain": [
       "<Figure size 432x288 with 1 Axes>"
      ]
     },
     "metadata": {
      "needs_background": "light"
     },
     "output_type": "display_data"
    },
    {
     "data": {
      "image/png": "[encoded data removed]",
      "text/plain": [
       "<Figure size 432x288 with 1 Axes>"
      ]
     },
     "metadata": {
      "needs_background": "light"
     },
     "output_type": "display_data"
    }
   ],
   "source": [
    "plt.plot(hist.history['loss'], color='b')\n",
    "plt.plot(hist.history['val_loss'], color='r')\n",
    "plt.show()\n",
    "plt.plot(hist.history['accuracy'], color='b')\n",
    "plt.plot(hist.history['val_accuracy'], color='r')\n",
    "plt.show()"
   ]
  },
  {
   "cell_type": "code",
   "execution_count": 21,
   "metadata": {},
   "outputs": [],
   "source": [
    "non_idx = np.where(y_test[:,0] == 0.)[0]\n",
    "yes_idx = np.where(y_test[:,0] == 1.)[0]\n",
    "y_hat = model.predict(x_test)[:,0]"
   ]
  },
  {
   "cell_type": "code",
   "execution_count": 22,
   "metadata": {
    "scrolled": false
   },
   "outputs": [
    {
     "data": {
      "image/png": "[encoded data removed]",
      "text/plain": [
       "<Figure size 432x288 with 1 Axes>"
      ]
     },
     "metadata": {
      "needs_background": "light"
     },
     "output_type": "display_data"
    },
    {
     "name": "stdout",
     "output_type": "stream",
     "text": [
      "ROC area under curve is 1.00\n"
     ]
    }
   ],
   "source": [
    "y_true = (y_test[:, 0] + 0.5).astype(\"int\")\n",
    "fpr, tpr, thresholds = roc_curve(y_true, y_hat)\n",
    "plt.plot(fpr, tpr)\n",
    "plt.show()\n",
    "print(\"ROC area under curve is {0:.2f}\".format(roc_auc_score(y_true, y_hat)))"
   ]
  },
  {
   "cell_type": "code",
   "execution_count": null,
   "metadata": {},
   "outputs": [],
   "source": []
  }
 ],
 "metadata": {
  "kernelspec": {
   "display_name": "Python 3",
   "language": "python",
   "name": "python3"
  },
  "language_info": {
   "codemirror_mode": {
    "name": "ipython",
    "version": 3
   },
   "file_extension": ".py",
   "mimetype": "text/x-python",
   "name": "python",
   "nbconvert_exporter": "python",
   "pygments_lexer": "ipython3",
   "version": "3.7.7"
  }
 },
 "nbformat": 4,
 "nbformat_minor": 4
}
